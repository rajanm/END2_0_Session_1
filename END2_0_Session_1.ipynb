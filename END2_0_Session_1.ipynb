{
  "nbformat": 4,
  "nbformat_minor": 0,
  "metadata": {
    "colab": {
      "name": "END2.0 Session 1.ipynb",
      "provenance": [],
      "collapsed_sections": [],
      "include_colab_link": true
    },
    "kernelspec": {
      "name": "python3",
      "display_name": "Python 3"
    },
    "language_info": {
      "name": "python"
    }
  },
  "cells": [
    {
      "cell_type": "markdown",
      "metadata": {
        "id": "view-in-github",
        "colab_type": "text"
      },
      "source": [
        "<a href=\"https://colab.research.google.com/github/rajanm/END2_0_Session_1/blob/main/END2_0_Session_1.ipynb\" target=\"_parent\"><img src=\"https://colab.research.google.com/assets/colab-badge.svg\" alt=\"Open In Colab\"/></a>"
      ]
    },
    {
      "cell_type": "code",
      "metadata": {
        "id": "cc7PqxuTiRW9"
      },
      "source": [
        "#!pip install torch=1.8.1"
      ],
      "execution_count": null,
      "outputs": []
    },
    {
      "cell_type": "code",
      "metadata": {
        "colab": {
          "base_uri": "https://localhost:8080/"
        },
        "id": "GC_6PeobwwkH",
        "outputId": "71e6ae64-baff-4503-d3f4-e9b35905ebda"
      },
      "source": [
        "import torch\n",
        "from torch.autograd import Variable\n",
        "import torch.nn as nn\n",
        "import torch.nn.functional as F\n",
        "import torch.optim as optim\n",
        "import numpy as np\n",
        "import matplotlib.pyplot as plt\n",
        "%matplotlib inline\n",
        "torch.manual_seed(2)"
      ],
      "execution_count": null,
      "outputs": [
        {
          "output_type": "execute_result",
          "data": {
            "text/plain": [
              "<torch._C.Generator at 0x7f3ba4993b50>"
            ]
          },
          "metadata": {
            "tags": []
          },
          "execution_count": 2
        }
      ]
    },
    {
      "cell_type": "code",
      "metadata": {
        "id": "bL64bMTkw2GP"
      },
      "source": [
        "# input data\n",
        "X = torch.Tensor([[0,0], [0,1], [1,0], [1,1]])\n",
        "# outputs for the input data\n",
        "Y = torch.Tensor([0, 1, 1, 0]).view(-1,1)"
      ],
      "execution_count": null,
      "outputs": []
    },
    {
      "cell_type": "code",
      "metadata": {
        "id": "aC82kEAIw3Wf"
      },
      "source": [
        "class XOR(nn.Module):\n",
        "    def __init__(self, input_dim = 2, output_dim=1):\n",
        "        super(XOR, self).__init__()\n",
        "        # Session 1 - Assignment 1 - Task 2\n",
        "        # Original params = 2\n",
        "        # self.lin1 = nn.Linear(input_dim, 2)\n",
        "        # self.lin2 = nn.Linear(2, output_dim)\n",
        "\n",
        "        # Revised params = 11 so that there are\n",
        "        # and also made the bias False for 2nd\n",
        "        # linear tranformation so that there are \n",
        "        # a total of 44 parameters \n",
        "        self.lin1 = nn.Linear(input_dim, 11, True)\n",
        "        self.lin2 = nn.Linear(11, output_dim, False)\n",
        "\n",
        "    def forward(self, x):\n",
        "        x = self.lin1(x)\n",
        "        # Original tanh function call from F module\n",
        "        # x = F.tanh(x)\n",
        "        # Replaced F.tanh with torch.tanh based on warning \n",
        "        # from model training that f.tanh is being deprecated\n",
        "        x = torch.tanh(x)\n",
        "        x = self.lin2(x)\n",
        "        # Session 1 - Assignment 1 - Task 1\n",
        "        # removed last activation function as per assignment\n",
        "        # x = F.tanh(x)\n",
        "        return x"
      ],
      "execution_count": null,
      "outputs": []
    },
    {
      "cell_type": "code",
      "metadata": {
        "colab": {
          "base_uri": "https://localhost:8080/"
        },
        "id": "8gQIQExYw65K",
        "outputId": "b5141165-3b85-41f0-80bd-7ce7d473d082"
      },
      "source": [
        "model = XOR()\n",
        "print(model)\n",
        "from torchsummary import summary\n",
        "summary(model, (2,2))"
      ],
      "execution_count": null,
      "outputs": [
        {
          "output_type": "stream",
          "text": [
            "XOR(\n",
            "  (lin1): Linear(in_features=2, out_features=11, bias=True)\n",
            "  (lin2): Linear(in_features=11, out_features=1, bias=False)\n",
            ")\n",
            "----------------------------------------------------------------\n",
            "        Layer (type)               Output Shape         Param #\n",
            "================================================================\n",
            "            Linear-1                [-1, 2, 11]              33\n",
            "            Linear-2                 [-1, 2, 1]              11\n",
            "================================================================\n",
            "Total params: 44\n",
            "Trainable params: 44\n",
            "Non-trainable params: 0\n",
            "----------------------------------------------------------------\n",
            "Input size (MB): 0.00\n",
            "Forward/backward pass size (MB): 0.00\n",
            "Params size (MB): 0.00\n",
            "Estimated Total Size (MB): 0.00\n",
            "----------------------------------------------------------------\n"
          ],
          "name": "stdout"
        }
      ]
    },
    {
      "cell_type": "code",
      "metadata": {
        "id": "yeotEq19x6XF"
      },
      "source": [
        "def weights_init(model):\n",
        "    for m in model.modules():\n",
        "        if isinstance(m, nn.Linear):\n",
        "            # initialize the weight tensor, here we use a normal distribution\n",
        "            m.weight.data.normal_(0, 1)\n",
        "\n",
        "weights_init(model)"
      ],
      "execution_count": null,
      "outputs": []
    },
    {
      "cell_type": "code",
      "metadata": {
        "id": "WrD_sNzLx78e"
      },
      "source": [
        "loss_func = nn.L1Loss()"
      ],
      "execution_count": null,
      "outputs": []
    },
    {
      "cell_type": "code",
      "metadata": {
        "id": "-zvbrMd2x_lA"
      },
      "source": [
        "optimizer = optim.SGD(model.parameters(), lr=0.02, momentum=0.9)"
      ],
      "execution_count": null,
      "outputs": []
    },
    {
      "cell_type": "code",
      "metadata": {
        "colab": {
          "base_uri": "https://localhost:8080/"
        },
        "id": "q7tWa3D7yA5X",
        "outputId": "067700bf-9198-419a-8d5c-4bd4837454aa"
      },
      "source": [
        "# Session 1 - Assignment 1 - Task 3\n",
        "# Original epochs \n",
        "# epochs = 300\n",
        "# Revised epochs to 2001\n",
        "epochs = 2001\n",
        "steps = X.size(0)\n",
        "for i in range(epochs):\n",
        "    for j in range(steps):\n",
        "        data_point = np.random.randint(X.size(0))\n",
        "        x_var = Variable(X[data_point], requires_grad=False)\n",
        "        y_var = Variable(Y[data_point], requires_grad=False)\n",
        "        \n",
        "        optimizer.zero_grad()\n",
        "        y_hat = model(x_var)\n",
        "        loss = loss_func.forward(y_hat, y_var)\n",
        "        loss.backward()\n",
        "        optimizer.step()\n",
        "        \n",
        "    if i % 50 == 0:\n",
        "        print( \"Epoch: {0}, Loss: {1}, \".format(i, loss.data.numpy()))"
      ],
      "execution_count": null,
      "outputs": [
        {
          "output_type": "stream",
          "text": [
            "Epoch: 0, Loss: 2.2077949047088623, \n",
            "Epoch: 50, Loss: 0.302685022354126, \n",
            "Epoch: 100, Loss: 0.33094334602355957, \n",
            "Epoch: 150, Loss: 0.025749802589416504, \n",
            "Epoch: 200, Loss: 0.14429885149002075, \n",
            "Epoch: 250, Loss: 0.2591211795806885, \n",
            "Epoch: 300, Loss: 0.20841717720031738, \n",
            "Epoch: 350, Loss: 0.02539694309234619, \n",
            "Epoch: 400, Loss: 0.12245947122573853, \n",
            "Epoch: 450, Loss: 0.22430753707885742, \n",
            "Epoch: 500, Loss: 0.021240562200546265, \n",
            "Epoch: 550, Loss: 0.008904755115509033, \n",
            "Epoch: 600, Loss: 0.39884334802627563, \n",
            "Epoch: 650, Loss: 0.08051526546478271, \n",
            "Epoch: 700, Loss: 0.1200110912322998, \n",
            "Epoch: 750, Loss: 0.12578147649765015, \n",
            "Epoch: 800, Loss: 0.21371841430664062, \n",
            "Epoch: 850, Loss: 0.057116687297821045, \n",
            "Epoch: 900, Loss: 0.16953721642494202, \n",
            "Epoch: 950, Loss: 0.24780058860778809, \n",
            "Epoch: 1000, Loss: 0.21033382415771484, \n",
            "Epoch: 1050, Loss: 0.45723891258239746, \n",
            "Epoch: 1100, Loss: 0.05368119478225708, \n",
            "Epoch: 1150, Loss: 0.1681830883026123, \n",
            "Epoch: 1200, Loss: 0.013765692710876465, \n",
            "Epoch: 1250, Loss: 0.16710412502288818, \n",
            "Epoch: 1300, Loss: 0.6911449432373047, \n",
            "Epoch: 1350, Loss: 0.21934008598327637, \n",
            "Epoch: 1400, Loss: 0.0037031173706054688, \n",
            "Epoch: 1450, Loss: 0.11754179000854492, \n",
            "Epoch: 1500, Loss: 0.23246562480926514, \n",
            "Epoch: 1550, Loss: 0.5232323408126831, \n",
            "Epoch: 1600, Loss: 0.04283881187438965, \n",
            "Epoch: 1650, Loss: 0.17949628829956055, \n",
            "Epoch: 1700, Loss: 0.19997823238372803, \n",
            "Epoch: 1750, Loss: 0.34790563583374023, \n",
            "Epoch: 1800, Loss: 0.2640153765678406, \n",
            "Epoch: 1850, Loss: 0.15634453296661377, \n",
            "Epoch: 1900, Loss: 0.3986964225769043, \n",
            "Epoch: 1950, Loss: 0.3807847201824188, \n",
            "Epoch: 2000, Loss: 0.08066445589065552, \n"
          ],
          "name": "stdout"
        }
      ]
    },
    {
      "cell_type": "code",
      "metadata": {
        "id": "QV0dIdveyCRi"
      },
      "source": [
        ""
      ],
      "execution_count": null,
      "outputs": []
    }
  ]
}